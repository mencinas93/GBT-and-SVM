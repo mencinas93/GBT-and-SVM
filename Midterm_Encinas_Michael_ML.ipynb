{
 "cells": [
  {
   "cell_type": "markdown",
   "id": "ba107143",
   "metadata": {},
   "source": [
    "Problem #5 (65 points)\n",
    "For this problem, you need to use the built-in sklearn digits dataset. You can load this data using\n",
    "\n",
    "        from sklearn.datasets import load_digits\n",
    "  digits = load_digits()\n",
    "\n",
    "(data will be stored in digits.data and desired output will be stored in digits.target)\n",
    "\n",
    "Divide the data into training and test sets using train_test_split and random_state=0\n",
    "\n",
    "1.\tTrain a Gradient Boosted Regression Trees classifier and optimize its performance on this data. Using 4-fold cross validation, design your experiment to learn the best values for the following parameters using 4-fold cross validation: n_estimators, learning_rates, and max_depth \n",
    "a.\tAnalyze the results of the classifier using its optimal parameters and comment on its generalization capability by comparing the accuracy on the training, validation, and test data.\n",
    "b.\tIdentify the number of misclassified test samples from each class. Explain why some classes are easier to classifier than others.\n",
    "c.\tVisualize and explain the relevant features identified by the classifier\n",
    "Create a white 8x8 image that represents the original 64 features. Map each identified relevant feature to this 2D image and display it using a color or a grey scale that reflects its importance (as illustrated in the lecture)\n",
    "\n",
    "2.\tTrain a Support Vector Machines classifier and optimize its performance on this data. \n",
    "Using 4-fold cross validation, design your experiment to learn the best values for the following parameters \n",
    "i.\tData normalization: no preprocessing vs. StandardScaler\n",
    "ii.\tKernel: Linear vs. RBF\n",
    "iii.\tThe regularization parameter C: 4 different values. \n",
    "a.\t Analyze the results of the classifier using its optimal parameters and comment on its generalization capability by comparing the accuracy on the training, validation, and test data.\n",
    "b.\tIdentify the number of misclassified test samples from each class.\n",
    "\n",
    "3.\tAnalyze the correlation between the output of the 2 classifiers by displaying the predict_proba of SVM vs. predict_proba of GBRT (using test data). Using these scatter plots (only for classes “0”, “3”, and “7”), identify (if available) the following 3 groups\n",
    "c.\tG-1: Samples that are easy to classify correctly by the SVM, but hard to classify by GBRT\n",
    "d.\tG-2: Samples that are easy to classify correctly by the GBRT, but hard to classify by SVM\n",
    "e.\tG-3: Samples that are hard to classify correctly by both methods\n",
    "For each group, display few samples (as images) and identify any common features among them.\n",
    "\n"
   ]
  },
  {
   "cell_type": "code",
   "execution_count": 69,
   "id": "1aae6cde",
   "metadata": {},
   "outputs": [],
   "source": [
    "import numpy as np\n",
    "import matplotlib.pyplot as plt\n",
    "from sklearn.datasets import load_digits\n",
    "from sklearn.model_selection import train_test_split, GridSearchCV, KFold, cross_val_score\n",
    "from sklearn.ensemble import GradientBoostingClassifier\n",
    "from sklearn.svm import SVC\n",
    "from sklearn.preprocessing import StandardScaler\n",
    "from sklearn.metrics import accuracy_score"
   ]
  },
  {
   "cell_type": "code",
   "execution_count": 70,
   "id": "ccd9a0d2",
   "metadata": {},
   "outputs": [],
   "source": [
    "from sklearn.datasets import load_digits\n",
    "from sklearn.model_selection import train_test_split"
   ]
  },
  {
   "cell_type": "code",
   "execution_count": 71,
   "id": "464ad2c6",
   "metadata": {},
   "outputs": [],
   "source": [
    "digits = load_digits()"
   ]
  },
  {
   "cell_type": "code",
   "execution_count": 72,
   "id": "c04bdb80",
   "metadata": {},
   "outputs": [],
   "source": [
    "X_train, X_test, y_train, y_test = train_test_split(digits.data, digits.target, random_state=0)"
   ]
  },
  {
   "cell_type": "markdown",
   "id": "4a9a8aea",
   "metadata": {},
   "source": [
    "80 percent of data used for train and 20 percent of data used for test"
   ]
  },
  {
   "cell_type": "code",
   "execution_count": 75,
   "id": "fda78ea5",
   "metadata": {},
   "outputs": [
    {
     "name": "stdout",
     "output_type": "stream",
     "text": [
      "    n_estimators  learning_rate  max_depth  avg_training_accuracy  \\\n",
      "0             10           0.01          1               0.558278   \n",
      "1             10           0.01          3               0.881218   \n",
      "2             10           0.01          5               0.976986   \n",
      "3             10           0.10          1               0.766889   \n",
      "4             10           0.10          3               0.961396   \n",
      "5             10           0.10          5               0.997773   \n",
      "6             10           0.20          1               0.861173   \n",
      "7             10           0.20          3               0.988864   \n",
      "8             10           0.20          5               1.000000   \n",
      "9             50           0.01          1               0.708983   \n",
      "10            50           0.01          3               0.934670   \n",
      "11            50           0.01          5               0.991091   \n",
      "12            50           0.10          1               0.943578   \n",
      "13            50           0.10          3               1.000000   \n",
      "14            50           0.10          5               1.000000   \n",
      "15            50           0.20          1               0.976986   \n",
      "16            50           0.20          3               1.000000   \n",
      "17            50           0.20          5               1.000000   \n",
      "18           100           0.01          1               0.770601   \n",
      "19           100           0.01          3               0.965108   \n",
      "20           100           0.01          5               0.997773   \n",
      "21           100           0.10          1               0.974759   \n",
      "22           100           0.10          3               1.000000   \n",
      "23           100           0.10          5               1.000000   \n",
      "24           100           0.20          1               0.997030   \n",
      "25           100           0.20          3               1.000000   \n",
      "26           100           0.20          5               1.000000   \n",
      "\n",
      "    avg_cv_accuracy  time_taken  \n",
      "0          0.500408    0.328386  \n",
      "1          0.795098    0.731872  \n",
      "2          0.830728    1.205883  \n",
      "3          0.738680    0.296048  \n",
      "4          0.884929    0.721537  \n",
      "5          0.880473    1.198214  \n",
      "6          0.816644    0.303512  \n",
      "7          0.916110    0.735345  \n",
      "8          0.913889    1.193113  \n",
      "9          0.667424    1.406660  \n",
      "10         0.847068    3.647442  \n",
      "11         0.860430    6.147851  \n",
      "12         0.887176    1.463538  \n",
      "13         0.945806    3.799362  \n",
      "14         0.924277    6.076206  \n",
      "15         0.929483    1.414663  \n",
      "16         0.951008    3.674822  \n",
      "17         0.942830    6.025232  \n",
      "18         0.746114    2.757389  \n",
      "19         0.884189    7.613193  \n",
      "20         0.881213   13.389639  \n",
      "21         0.927258    3.039526  \n",
      "22         0.952494    8.048114  \n",
      "23         0.936897   12.039030  \n",
      "24         0.942106    2.813010  \n",
      "25         0.958428    7.301885  \n",
      "26         0.945802    7.511616  \n"
     ]
    }
   ],
   "source": [
    "n_estimators = [10, 50, 100]\n",
    "learning_rates = [0.01, 0.1, 0.2]\n",
    "max_depths = [1, 3, 5]\n",
    "\n",
    "# Set up 4-fold cross-validation\n",
    "kf = KFold(n_splits=4, shuffle=True, random_state=0)\n",
    "\n",
    "# To store results\n",
    "results = []\n",
    "\n",
    "# Iterate through each combination of hyperparameters\n",
    "for n_estimator in n_estimators:\n",
    "    for learning_rate in learning_rates:\n",
    "        for max_depth in max_depths:\n",
    "            # Initialize GBRT with current parameters\n",
    "            gbrt = GradientBoostingClassifier(\n",
    "                n_estimators=n_estimator, \n",
    "                learning_rate=learning_rate, \n",
    "                max_depth=max_depth,\n",
    "                random_state=0\n",
    "            )\n",
    "\n",
    "         \n",
    "            start_time = time.time()\n",
    "\n",
    "\n",
    "            cv_scores = cross_val_score(gbrt, X_train, y_train, cv=kf, n_jobs=-1)\n",
    "\n",
    "        \n",
    "            gbrt.fit(X_train, y_train)\n",
    "\n",
    "           \n",
    "            train_accuracy = accuracy_score(y_train, gbrt.predict(X_train))\n",
    "\n",
    "            #\n",
    "            elapsed_time = time.time() - start_time\n",
    "\n",
    "            # Store results\n",
    "            results.append({\n",
    "                'n_estimators': n_estimator,\n",
    "                'learning_rate': learning_rate,\n",
    "                'max_depth': max_depth,\n",
    "                'avg_training_accuracy': train_accuracy,\n",
    "                'avg_cv_accuracy': np.mean(cv_scores),\n",
    "                'time_taken': elapsed_time\n",
    "            })\n",
    "\n",
    "results_df = pd.DataFrame(results)\n",
    "print(results_df)"
   ]
  },
  {
   "cell_type": "code",
   "execution_count": null,
   "id": "005ffcbf",
   "metadata": {},
   "outputs": [],
   "source": []
  }
 ],
 "metadata": {
  "kernelspec": {
   "display_name": "Python 3 (ipykernel)",
   "language": "python",
   "name": "python3"
  },
  "language_info": {
   "codemirror_mode": {
    "name": "ipython",
    "version": 3
   },
   "file_extension": ".py",
   "mimetype": "text/x-python",
   "name": "python",
   "nbconvert_exporter": "python",
   "pygments_lexer": "ipython3",
   "version": "3.11.7"
  }
 },
 "nbformat": 4,
 "nbformat_minor": 5
}
